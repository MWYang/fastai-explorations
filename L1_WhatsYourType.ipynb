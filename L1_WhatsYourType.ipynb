{
 "cells": [
  {
   "cell_type": "code",
   "execution_count": null,
   "metadata": {},
   "outputs": [],
   "source": [
    "from fastai.metrics import error_rate\n",
    "from fastai.vision import *\n",
    "from pathlib import Path\n",
    "from tqdm import tqdm\n",
    "import os\n",
    "import pandas as pd\n",
    "import pokepy"
   ]
  },
  {
   "cell_type": "code",
   "execution_count": null,
   "metadata": {},
   "outputs": [],
   "source": [
    "client = pokepy.V2Client(cache='in_disk', cache_location='~/Downloads')\n",
    "img_dir = '/Users/mwyang/Downloads/pokemon'\n",
    "img_path = Path(img_dir)\n",
    "fnames = os.listdir(img_path)"
   ]
  },
  {
   "cell_type": "code",
   "execution_count": null,
   "metadata": {},
   "outputs": [],
   "source": [
    "def process_image_fname(f):\n",
    "    id = f[:-4]\n",
    "    if '-' not in id:\n",
    "        try:\n",
    "            poke = client.get_pokemon(id)\n",
    "            return (poke[0].name, [t.type.name for t in poke[0].types])\n",
    "        except:\n",
    "            pass\n",
    "    return (None, None)"
   ]
  },
  {
   "cell_type": "code",
   "execution_count": null,
   "metadata": {},
   "outputs": [],
   "source": [
    "df = [process_image_fname(f) for f in tqdm(fnames)]\n",
    "df = pd.DataFrame(df, columns=['name', 'types'])"
   ]
  },
  {
   "cell_type": "code",
   "execution_count": null,
   "metadata": {},
   "outputs": [],
   "source": [
    "df['fname'] = fnames\n",
    "df['id'] = [f[:-4] for f in fnames]\n",
    "pd.to_numeric(df['id'], errors='coerce')\n",
    "df.sort_values('id', inplace=True)\n",
    "df.reset_index(inplace=True)"
   ]
  },
  {
   "cell_type": "code",
   "execution_count": null,
   "metadata": {},
   "outputs": [],
   "source": [
    "df['primary_type'] = df.types.map(lambda x: x[0] if x is not None else None)"
   ]
  },
  {
   "cell_type": "code",
   "execution_count": null,
   "metadata": {},
   "outputs": [],
   "source": [
    "data = ImageDataBunch.from_df(\n",
    "    img_path,\n",
    "    df[~df.isnull().any(axis=1)],\n",
    "    fn_col='fname', label_col='types', ds_tfms=get_transforms(), size=224)"
   ]
  }
 ],
 "metadata": {
  "jupytext": {
   "cell_metadata_filter": "-all",
   "main_language": "python",
   "notebook_metadata_filter": "-all"
  }
 },
 "nbformat": 4,
 "nbformat_minor": 2
}
